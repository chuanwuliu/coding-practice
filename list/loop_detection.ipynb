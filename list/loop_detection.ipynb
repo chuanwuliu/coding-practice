{
 "cells": [
  {
   "cell_type": "markdown",
   "metadata": {},
   "source": [
    "## Question:\n",
    "\n",
    "Given a linked list, check if the linked list has loop or not."
   ]
  },
  {
   "cell_type": "code",
   "execution_count": 1,
   "metadata": {},
   "outputs": [],
   "source": [
    "# First, construct a linked list\n",
    "class Node(): \n",
    "    def __init__(self, value, next: \"Node\" = None): \n",
    "        self.value = value \n",
    "        self.next = None\n",
    "        \n",
    "    def set_next(self, node: \"Node\") -> \"Node\":\n",
    "        self.next = node\n",
    "        return node\n",
    "\n",
    "\n",
    "# Contruct a linked list without loop\n",
    "head, n1, n2, n3, n4, n5 = Node(0), Node(1), Node(2), Node(3), Node(4), Node(5)\n",
    "head.set_next(n1).set_next(n2).set_next(n3).set_next(n4).set_next(n5)\n",
    "L1 = head\n",
    "\n",
    "# Construct a linked list with a loop (at the 4th element which has the value of 3)\n",
    "head, n1, n2, n3, n4, n5 = Node(0), Node(1), Node(2), Node(3), Node(4), Node(5)\n",
    "head.set_next(n1).set_next(n2).set_next(n3).set_next(n4).set_next(n5).set_next(n3)\n",
    "L2 = head"
   ]
  },
  {
   "cell_type": "code",
   "execution_count": 2,
   "metadata": {},
   "outputs": [
    {
     "name": "stdout",
     "output_type": "stream",
     "text": [
      "L1:\n",
      "0 -> 1 -> 2 -> 3 -> 4 -> 5"
     ]
    }
   ],
   "source": [
    "# Print the list, becareful the infinate loop\n",
    "def walk_list(head):\n",
    "    print(head.value, end=\"\")\n",
    "    n = head.next\n",
    "    while(n):\n",
    "        print(\" ->\", n.value, end=\"\")\n",
    "        n = n.next\n",
    "\n",
    "print(\"L1:\")\n",
    "walk_list(L1)\n",
    "\n",
    "# Print L2: Be careful the infinate loop\n",
    "# print(\"L2:\")\n",
    "# print_list(L2)"
   ]
  },
  {
   "cell_type": "markdown",
   "metadata": {},
   "source": [
    "### Solution 1. Hashing/ approach\n",
    "\n",
    "Walk all nodes, save the address/hashing of each node to a list, if the address/hashing of current node already exists in the existing list, a loop is detected."
   ]
  },
  {
   "cell_type": "code",
   "execution_count": 3,
   "metadata": {},
   "outputs": [],
   "source": [
    "## Solution 1: Harshing list\n",
    "\n",
    "def hashing_approach(head):\n",
    "    node = head\n",
    "    pool = {hash(node)}\n",
    "    while (node.next):\n",
    "        node = node.next\n",
    "        hash_value = hash(node)\n",
    "        if hash_value in pool:\n",
    "            return node\n",
    "        else:\n",
    "            pool.add(hash_value)\n",
    "    return None\n",
    "\n",
    "\n",
    "## Variation to Solution 1. Add a flag attribute to each node that has been walked.\n",
    "## I commented this approach because it will modify the orignal list\n",
    "# def flag_approach(header):\n",
    "#     flags = {header: True}\n",
    "#     while(node):\n",
    "#         if hasattr(node, 'flag') and node.flag is True:\n",
    "#             return node\n",
    "#         else:\n",
    "#             node.flag = True\n",
    "#             node = node.next\n",
    "#     return None"
   ]
  },
  {
   "cell_type": "code",
   "execution_count": 4,
   "metadata": {},
   "outputs": [
    {
     "name": "stdout",
     "output_type": "stream",
     "text": [
      "No loop!\n",
      "Loop found: value = 3\n"
     ]
    }
   ],
   "source": [
    "method = hashing_approach\n",
    "L = L1\n",
    "tail = method(L)\n",
    "if tail:\n",
    "    print(\"Loop found: value =\", tail.value)\n",
    "else:\n",
    "    print(\"No loop!\")\n",
    "\n",
    "L = L2\n",
    "tail = method(L)\n",
    "if tail:\n",
    "    print(\"Loop found: value =\", tail.value)\n",
    "else:\n",
    "    print(\"No loop!\")"
   ]
  },
  {
   "cell_type": "markdown",
   "metadata": {},
   "source": [
    "### Solution 2. Floyd’s Cycle-Finding Algorithm\n",
    "\n",
    "Like two runners running on a track at different speed, a slow pointer and a fast pointer are running on the linked list. The slow pointer moves one step at a time while the fast pointer moves two steps at a time.\n",
    "If there is a cycle in the list, the fast pointer will eventually meet the slow pointer again."
   ]
  },
  {
   "cell_type": "code",
   "execution_count": 5,
   "metadata": {},
   "outputs": [],
   "source": [
    "def floyd_approach(head):\n",
    "    slow_pointer = head\n",
    "    fast_pointer = head\n",
    "    while (fast_pointer.next and fast_pointer.next.next):\n",
    "        fast_pointer = fast_pointer.next.next\n",
    "        slow_pointer = slow_pointer.next\n",
    "        if fast_pointer is slow_pointer:\n",
    "            return fast_pointer\n",
    "    return None"
   ]
  },
  {
   "cell_type": "code",
   "execution_count": 6,
   "metadata": {},
   "outputs": [
    {
     "name": "stdout",
     "output_type": "stream",
     "text": [
      "No loop!\n",
      "Loop found: value = 3\n"
     ]
    }
   ],
   "source": [
    "method = floyd_approach\n",
    "L = L1\n",
    "tail = method(L)\n",
    "if tail:\n",
    "    print(\"Loop found: value =\", tail.value)\n",
    "else:\n",
    "    print(\"No loop!\")\n",
    "\n",
    "L = L2\n",
    "tail = method(L)\n",
    "if tail:\n",
    "    print(\"Loop found: value =\", tail.value)\n",
    "else:\n",
    "    print(\"No loop!\")"
   ]
  },
  {
   "cell_type": "markdown",
   "metadata": {},
   "source": [
    "## Thank You"
   ]
  }
 ],
 "metadata": {
  "kernelspec": {
   "display_name": "Python 3",
   "language": "python",
   "name": "python3"
  },
  "language_info": {
   "codemirror_mode": {
    "name": "ipython",
    "version": 3
   },
   "file_extension": ".py",
   "mimetype": "text/x-python",
   "name": "python",
   "nbconvert_exporter": "python",
   "pygments_lexer": "ipython3",
   "version": "3.7.1"
  }
 },
 "nbformat": 4,
 "nbformat_minor": 2
}
